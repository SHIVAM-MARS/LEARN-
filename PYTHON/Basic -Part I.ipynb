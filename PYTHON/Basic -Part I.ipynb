{
 "cells": [
  {
   "cell_type": "markdown",
   "metadata": {},
   "source": [
    "# PYTHON Basic -Part I"
   ]
  },
  {
   "cell_type": "markdown",
   "metadata": {},
   "source": [
    "#### 1. Write a Python program to print the following string in a specific format (see the output)."
   ]
  },
  {
   "cell_type": "markdown",
   "metadata": {},
   "source": [
    "**Sample String :** \"Twinkle, twinkle, little star, How I wonder what you are! Up above the world so high, Like a diamond in the sky. Twinkle, twinkle, little star, How I wonder what you are\"\n",
    "\n",
    "**Output :**"
   ]
  },
  {
   "cell_type": "markdown",
   "metadata": {},
   "source": [
    "\n",
    "Twinkle, twinkle, little star,\n",
    "\tHow I wonder what you are! \n",
    "\t\tUp above the world so high,   \t\t\n",
    "\t\tLike a diamond in the sky. \n",
    "Twinkle, twinkle, little star, \n",
    "\tHow I wonder what you are"
   ]
  },
  {
   "cell_type": "code",
   "execution_count": 2,
   "metadata": {},
   "outputs": [
    {
     "name": "stdout",
     "output_type": "stream",
     "text": [
      "Twinkle, twinkle, little star,\n",
      "\n",
      "\tHow I wonder what you are! \n",
      "\n",
      "\t\tUp above the world so high,   \t\t\n",
      "\n",
      "\t\tLike a diamond in the sky. \n",
      "\n",
      "Twinkle, twinkle, little star, \n",
      "\n",
      "\tHow I wonder what you are\n"
     ]
    }
   ],
   "source": [
    "print(\"\"\"Twinkle, twinkle, little star,\n",
    "\\n\\tHow I wonder what you are! \n",
    "\\n\\t\\tUp above the world so high,   \t\t\n",
    "\\n\\t\\tLike a diamond in the sky. \n",
    "\\nTwinkle, twinkle, little star, \n",
    "\\n\\tHow I wonder what you are\"\"\")"
   ]
  },
  {
   "cell_type": "markdown",
   "metadata": {},
   "source": [
    "#### 2. Write a Python program to find out what version of Python you are using."
   ]
  },
  {
   "cell_type": "code",
   "execution_count": 6,
   "metadata": {},
   "outputs": [
    {
     "name": "stdout",
     "output_type": "stream",
     "text": [
      "Python version:  3.12.4 (tags/v3.12.4:8e8a4ba, Jun  6 2024, 19:30:16) [MSC v.1940 64 bit (AMD64)]\n",
      "Python version Infomation:  sys.version_info(major=3, minor=12, micro=4, releaselevel='final', serial=0)\n"
     ]
    }
   ],
   "source": [
    "import sys\n",
    "print(\"Python version: \",sys.version)\n",
    "print(\"Python version Infomation: \",sys.version_info)"
   ]
  },
  {
   "cell_type": "markdown",
   "metadata": {},
   "source": [
    "#### 3. Write a Python program to display the current date and time."
   ]
  },
  {
   "cell_type": "markdown",
   "metadata": {},
   "source": [
    "**Sample Output :**\n",
    "\n",
    "Current date and time :<br>\n",
    "2014-07-05 14:34:14"
   ]
  },
  {
   "cell_type": "code",
   "execution_count": 7,
   "metadata": {},
   "outputs": [
    {
     "name": "stdout",
     "output_type": "stream",
     "text": [
      "Current date and time:  Wed Jul 24 17:33:53 2024\n"
     ]
    }
   ],
   "source": [
    "import time\n",
    "\n",
    "print(\"Current date and time: \", time.ctime())"
   ]
  },
  {
   "cell_type": "code",
   "execution_count": 8,
   "metadata": {},
   "outputs": [
    {
     "name": "stdout",
     "output_type": "stream",
     "text": [
      "Current date and time:  2024-07-24 17:36:00\n"
     ]
    }
   ],
   "source": [
    "import datetime\n",
    "\n",
    "print(\"Current date and time: \", datetime.datetime.now().strftime(\"%Y-%m-%d %H:%M:%S\"))"
   ]
  },
  {
   "cell_type": "markdown",
   "metadata": {},
   "source": [
    "#### 4. Write a Python program that calculates the area of a circle based on the radius entered by the user."
   ]
  },
  {
   "cell_type": "markdown",
   "metadata": {},
   "source": [
    "**Sample Output :**\n",
    "\n",
    "r = 1.1<br>\n",
    "Area = 3.8013271108436504"
   ]
  },
  {
   "cell_type": "code",
   "execution_count": 14,
   "metadata": {},
   "outputs": [
    {
     "name": "stdout",
     "output_type": "stream",
     "text": [
      "Area of circle:  3.8013271108436504\n"
     ]
    }
   ],
   "source": [
    "from math import pi\n",
    "\n",
    "r = float(input(\"Enter radius of circle: \"))\n",
    "Area = pi *r**2\n",
    "print(\"Area of circle: \", Area)"
   ]
  },
  {
   "cell_type": "markdown",
   "metadata": {},
   "source": [
    "#### 5. Write a Python program that accepts the user's first and last name and prints them in reverse order with a space between them."
   ]
  },
  {
   "cell_type": "code",
   "execution_count": 15,
   "metadata": {},
   "outputs": [
    {
     "name": "stdout",
     "output_type": "stream",
     "text": [
      "amrahS mavihS\n"
     ]
    }
   ],
   "source": [
    "fname = input(\"Input your First Name : \")\n",
    "lname = input(\"Input your Last Name : \")\n",
    "print(lname[::-1] + \" \" + fname[::-1])"
   ]
  },
  {
   "cell_type": "code",
   "execution_count": 16,
   "metadata": {},
   "outputs": [
    {
     "name": "stdout",
     "output_type": "stream",
     "text": [
      "Sharma Shivam\n"
     ]
    }
   ],
   "source": [
    "fname = input(\"Input your First Name : \")\n",
    "lname = input(\"Input your Last Name : \")\n",
    "print(lname + \" \" + fname)"
   ]
  },
  {
   "cell_type": "markdown",
   "metadata": {},
   "source": [
    "#### 6. Write a Python program that accepts a sequence of comma-separated numbers from the user and generates a list and a tuple of those numbers."
   ]
  },
  {
   "cell_type": "markdown",
   "metadata": {},
   "source": [
    "__Sample data :__ 3, 5, 7, 23\n",
    "\n",
    "**Output :**\n",
    "\n",
    "List : ['3', ' 5', ' 7', ' 23']<br>\n",
    "Tuple : ('3', ' 5', ' 7', ' 23')"
   ]
  },
  {
   "cell_type": "code",
   "execution_count": 22,
   "metadata": {},
   "outputs": [
    {
     "name": "stdout",
     "output_type": "stream",
     "text": [
      "Sample Data :  3, 6, 9, 12, 15, 18, 21\n",
      "Sample Data - Data Type :  <class 'str'>\n",
      "List :  ['3', ' 6', ' 9', ' 12', ' 15', ' 18', ' 21']\n",
      "List - Data Type :  <class 'list'>\n",
      "Tuple :  ('3', ' 6', ' 9', ' 12', ' 15', ' 18', ' 21')\n",
      "Tuple - Data Type :  <class 'tuple'>\n"
     ]
    }
   ],
   "source": [
    "sample_data = '3, 6, 9, 12, 15, 18, 21'#input(\"Enter some number : \")\n",
    "print(\"Sample Data : \",sample_data)\n",
    "print(\"Sample Data - Data Type : \", type(sample_data))\n",
    "\n",
    "List = list(sample_data.split(\",\"))\n",
    "print(\"List : \", List)\n",
    "print(\"List - Data Type : \", type(List))\n",
    "\n",
    "Tuple = tuple(sample_data.split(\",\"))\n",
    "print(\"Tuple : \", Tuple)\n",
    "print(\"Tuple - Data Type : \", type(Tuple))\n"
   ]
  },
  {
   "cell_type": "markdown",
   "metadata": {},
   "source": [
    "#### 7. Write a Python program that accepts a filename from the user and prints the extension of the file."
   ]
  },
  {
   "cell_type": "markdown",
   "metadata": {},
   "source": [
    "**Sample filename :** abc.java\n",
    "\n",
    "**Output :** java"
   ]
  },
  {
   "cell_type": "code",
   "execution_count": 25,
   "metadata": {},
   "outputs": [
    {
     "name": "stdout",
     "output_type": "stream",
     "text": [
      "Extension of abc.java is : java\n"
     ]
    }
   ],
   "source": [
    "sample_filename = input(\"Enter file name: \")\n",
    "print(f\"Extension of {sample_filename} is : {sample_filename[sample_filename.index('.')+1:]}\")"
   ]
  },
  {
   "cell_type": "markdown",
   "metadata": {},
   "source": [
    "#### 8. Write a Python program to display the first and last colors from the following list."
   ]
  },
  {
   "cell_type": "markdown",
   "metadata": {},
   "source": [
    "color_list = [\"Red\",\"Green\",\"White\" ,\"Black\"]"
   ]
  },
  {
   "cell_type": "code",
   "execution_count": 1,
   "metadata": {},
   "outputs": [
    {
     "name": "stdout",
     "output_type": "stream",
     "text": [
      "Red Black\n"
     ]
    }
   ],
   "source": [
    "color_list = [\"Red\",\"Green\",\"White\" ,\"Black\"]\n",
    "print(\"%s %s\"%(color_list[0],color_list[-1]))"
   ]
  },
  {
   "cell_type": "markdown",
   "metadata": {},
   "source": [
    "#### 9. Write a Python program to display the examination schedule. (extract the date from exam_st_date)."
   ]
  },
  {
   "cell_type": "markdown",
   "metadata": {},
   "source": [
    "exam_st_date = (11, 12, 2014)<br>\n",
    "Sample Output : The examination will start from : 11 / 12 / 2014"
   ]
  },
  {
   "cell_type": "code",
   "execution_count": 4,
   "metadata": {},
   "outputs": [
    {
     "name": "stdout",
     "output_type": "stream",
     "text": [
      "The examination will start from : 11 / 12 / 2014\n"
     ]
    }
   ],
   "source": [
    "exam_st_date = (11, 12, 2014)\n",
    "\n",
    "print(\"The examination will start from : %i / %i / %i\"%exam_st_date)"
   ]
  },
  {
   "cell_type": "markdown",
   "metadata": {},
   "source": [
    "#### 10. Write a Python program that accepts an integer (n) and computes the value of n+nn+nnn."
   ]
  },
  {
   "cell_type": "markdown",
   "metadata": {},
   "source": [
    "Sample value of n is 5<br>\n",
    "Expected Result : 615"
   ]
  },
  {
   "cell_type": "code",
   "execution_count": 9,
   "metadata": {},
   "outputs": [
    {
     "name": "stdout",
     "output_type": "stream",
     "text": [
      "Result:  738\n"
     ]
    }
   ],
   "source": [
    "n = int(input(\"Input a number: \"))\n",
    "\n",
    "result = n + n*11 + n*111\n",
    "print(\"Result: \", result)"
   ]
  },
  {
   "cell_type": "markdown",
   "metadata": {},
   "source": [
    "#### 11. Write a Python program to print the documents (syntax, description etc.) of Python built-in function(s)."
   ]
  },
  {
   "cell_type": "markdown",
   "metadata": {},
   "source": [
    "Sample function : abs()<br><br>\n",
    "Expected Result :<br>\n",
    "abs(number) -> number<br>\n",
    "Return the absolute value of the argument.<br>"
   ]
  },
  {
   "cell_type": "code",
   "execution_count": 11,
   "metadata": {},
   "outputs": [
    {
     "name": "stdout",
     "output_type": "stream",
     "text": [
      "Return the absolute value of the argument.\n"
     ]
    }
   ],
   "source": [
    "print(abs.__doc__)"
   ]
  },
  {
   "cell_type": "code",
   "execution_count": 12,
   "metadata": {},
   "outputs": [
    {
     "name": "stdout",
     "output_type": "stream",
     "text": [
      "Return the number of items in a container.\n"
     ]
    }
   ],
   "source": [
    "print(len.__doc__)"
   ]
  },
  {
   "cell_type": "code",
   "execution_count": 13,
   "metadata": {},
   "outputs": [
    {
     "name": "stdout",
     "output_type": "stream",
     "text": [
      "Return a new list containing all items from the iterable in ascending order.\n",
      "\n",
      "A custom key function can be supplied to customize the sort order, and the\n",
      "reverse flag can be set to request the result in descending order.\n"
     ]
    }
   ],
   "source": [
    "print(sorted.__doc__)"
   ]
  },
  {
   "cell_type": "code",
   "execution_count": 14,
   "metadata": {},
   "outputs": [
    {
     "name": "stdout",
     "output_type": "stream",
     "text": [
      "Return the sum of a 'start' value (default: 0) plus an iterable of numbers\n",
      "\n",
      "When the iterable is empty, return the start value.\n",
      "This function is intended specifically for use with numeric values and may\n",
      "reject non-numeric types.\n"
     ]
    }
   ],
   "source": [
    "print(sum.__doc__)"
   ]
  },
  {
   "cell_type": "code",
   "execution_count": 15,
   "metadata": {},
   "outputs": [
    {
     "name": "stdout",
     "output_type": "stream",
     "text": [
      "int([x]) -> integer\n",
      "int(x, base=10) -> integer\n",
      "\n",
      "Convert a number or string to an integer, or return 0 if no arguments\n",
      "are given.  If x is a number, return x.__int__().  For floating point\n",
      "numbers, this truncates towards zero.\n",
      "\n",
      "If x is not a number or if base is given, then x must be a string,\n",
      "bytes, or bytearray instance representing an integer literal in the\n",
      "given base.  The literal can be preceded by '+' or '-' and be surrounded\n",
      "by whitespace.  The base defaults to 10.  Valid bases are 0 and 2-36.\n",
      "Base 0 means to interpret the base from the string as an integer literal.\n",
      ">>> int('0b100', base=0)\n",
      "4\n"
     ]
    }
   ],
   "source": [
    "print(int.__doc__)"
   ]
  },
  {
   "cell_type": "code",
   "execution_count": 16,
   "metadata": {},
   "outputs": [
    {
     "name": "stdout",
     "output_type": "stream",
     "text": [
      "map(func, *iterables) --> map object\n",
      "\n",
      "Make an iterator that computes the function using arguments from\n",
      "each of the iterables.  Stops when the shortest iterable is exhausted.\n"
     ]
    }
   ],
   "source": [
    "print(map.__doc__)"
   ]
  },
  {
   "cell_type": "code",
   "execution_count": 17,
   "metadata": {},
   "outputs": [
    {
     "name": "stdout",
     "output_type": "stream",
     "text": [
      "filter(function or None, iterable) --> filter object\n",
      "\n",
      "Return an iterator yielding those items of iterable for which function(item)\n",
      "is true. If function is None, return the items that are true.\n"
     ]
    }
   ],
   "source": [
    "print(filter.__doc__)"
   ]
  },
  {
   "cell_type": "code",
   "execution_count": 18,
   "metadata": {},
   "outputs": [
    {
     "name": "stdout",
     "output_type": "stream",
     "text": [
      "Built-in mutable sequence.\n",
      "\n",
      "If no argument is given, the constructor creates a new empty list.\n",
      "The argument must be an iterable if specified.\n"
     ]
    }
   ],
   "source": [
    "print(list.__doc__)"
   ]
  },
  {
   "cell_type": "code",
   "execution_count": 19,
   "metadata": {},
   "outputs": [
    {
     "name": "stdout",
     "output_type": "stream",
     "text": [
      "max(iterable, *[, default=obj, key=func]) -> value\n",
      "max(arg1, arg2, *args, *[, key=func]) -> value\n",
      "\n",
      "With a single iterable argument, return its biggest item. The\n",
      "default keyword-only argument specifies an object to return if\n",
      "the provided iterable is empty.\n",
      "With two or more arguments, return the largest argument.\n"
     ]
    }
   ],
   "source": [
    "print(max.__doc__)"
   ]
  },
  {
   "cell_type": "markdown",
   "metadata": {},
   "source": [
    "#### 12. Write a Python program that prints the calendar for a given month and year."
   ]
  },
  {
   "cell_type": "markdown",
   "metadata": {},
   "source": [
    "Note : Use 'calendar' module."
   ]
  },
  {
   "cell_type": "code",
   "execution_count": 22,
   "metadata": {},
   "outputs": [
    {
     "name": "stdout",
     "output_type": "stream",
     "text": [
      "     July 2024\n",
      "Mo Tu We Th Fr Sa Su\n",
      " 1  2  3  4  5  6  7\n",
      " 8  9 10 11 12 13 14\n",
      "15 16 17 18 19 20 21\n",
      "22 23 24 25 26 27 28\n",
      "29 30 31\n",
      "\n"
     ]
    }
   ],
   "source": [
    "import calendar\n",
    "yy = int(input(\"Enter year: \"))\n",
    "mm = int(input(\"Enter month: \"))\n",
    "print(calendar.month(yy, mm))"
   ]
  },
  {
   "cell_type": "markdown",
   "metadata": {},
   "source": [
    "#### 13. Write a Python program to print the following 'here document'."
   ]
  },
  {
   "cell_type": "markdown",
   "metadata": {},
   "source": [
    "**Sample string :**<br>\n",
    "```\n",
    "a string that you \"don't\" have to escape\n",
    "This\n",
    "is a ....... multi-line\n",
    "heredoc string --------> example \n",
    "```"
   ]
  },
  {
   "cell_type": "code",
   "execution_count": 23,
   "metadata": {},
   "outputs": [
    {
     "name": "stdout",
     "output_type": "stream",
     "text": [
      "\n",
      "a string that you \"don't\" have to escape\n",
      "This\n",
      "is a ....... multi-line\n",
      "heredoc string --------> example \n",
      "\n"
     ]
    }
   ],
   "source": [
    "print('''\n",
    "a string that you \"don't\" have to escape\n",
    "This\n",
    "is a ....... multi-line\n",
    "heredoc string --------> example \n",
    "''')"
   ]
  },
  {
   "cell_type": "markdown",
   "metadata": {},
   "source": [
    "#### 14. Write a Python program to calculate the number of days between two dates."
   ]
  },
  {
   "cell_type": "markdown",
   "metadata": {},
   "source": [
    "Sample dates : (2014, 7, 2), (2014, 7, 11)<br>\n",
    "Expected output : 9 days"
   ]
  },
  {
   "cell_type": "code",
   "execution_count": 38,
   "metadata": {},
   "outputs": [
    {
     "name": "stdout",
     "output_type": "stream",
     "text": [
      "Days between 2003-10-07 and 2024-07-25 :  7597\n"
     ]
    }
   ],
   "source": [
    "import datetime\n",
    "\n",
    "from_date = datetime.date(2003, 10, 7)\n",
    "to_date = datetime.date(2024, 7, 25)\n",
    "\n",
    "print(f\"Days between {from_date} and {to_date} : \",(to_date - from_date).days)"
   ]
  },
  {
   "cell_type": "markdown",
   "metadata": {},
   "source": [
    "#### 15. Write a Python program to get the volume of a sphere with radius six."
   ]
  },
  {
   "cell_type": "code",
   "execution_count": 39,
   "metadata": {},
   "outputs": [
    {
     "name": "stdout",
     "output_type": "stream",
     "text": [
      "Volume of the sphere whose radius is 6.0 :  904.7786842338603\n"
     ]
    }
   ],
   "source": [
    "from math import pi\n",
    "\n",
    "radius = float(input(\"Input the radius of the circle : \"))\n",
    "\n",
    "print(f\"Volume of the sphere whose radius is {radius} : \", 4/3* pi *radius**3)"
   ]
  },
  {
   "cell_type": "markdown",
   "metadata": {},
   "source": [
    "#### 16. Write a Python program to calculate the difference between a given number and 17. If the number is greater than 17, return twice the absolute difference."
   ]
  },
  {
   "cell_type": "code",
   "execution_count": 40,
   "metadata": {},
   "outputs": [
    {
     "name": "stdout",
     "output_type": "stream",
     "text": [
      "144\n"
     ]
    }
   ],
   "source": [
    "num = int(input(\"Input a number: \"))\n",
    "\n",
    "if num > 17:\n",
    "    print(2 * (num - 17))\n",
    "else:\n",
    "    print(17 - num)"
   ]
  },
  {
   "cell_type": "markdown",
   "metadata": {},
   "source": [
    "#### 17. Write a Python program to test whether a number is within 100 of 1000 or 2000."
   ]
  },
  {
   "cell_type": "markdown",
   "metadata": {},
   "source": [
    "#### 18. Write a Python program to calculate the sum of three given numbers. If the values are equal, return three times their sum."
   ]
  },
  {
   "cell_type": "code",
   "execution_count": 48,
   "metadata": {},
   "outputs": [
    {
     "name": "stdout",
     "output_type": "stream",
     "text": [
      "6\n",
      "27\n"
     ]
    }
   ],
   "source": [
    "def myfunc(a, b, c):\n",
    "\n",
    "    sum = a + b + c\n",
    "    \n",
    "    if a == b == c:\n",
    "        return sum * 3\n",
    "\n",
    "    return sum\n",
    "\n",
    "\n",
    "print(myfunc(1, 2, 3))\n",
    "print(myfunc(3, 3, 3))\n"
   ]
  },
  {
   "cell_type": "markdown",
   "metadata": {},
   "source": [
    "#### 19. Write a Python program to get a newly-generated string from a given string where \"Is\" has been added to the front. Return the string unchanged if the given string already begins with \"Is\"."
   ]
  },
  {
   "cell_type": "code",
   "execution_count": 47,
   "metadata": {},
   "outputs": [
    {
     "name": "stdout",
     "output_type": "stream",
     "text": [
      "Is this thing on?\n",
      "Is no\n"
     ]
    }
   ],
   "source": [
    "def start_Is(s):\n",
    "\n",
    "    if s.startswith('Is'):\n",
    "        return s\n",
    "    else :\n",
    "        return 'Is ' + s\n",
    "    \n",
    "\n",
    "print(start_Is('Is this thing on?'))\n",
    "print(start_Is('no'))"
   ]
  },
  {
   "cell_type": "markdown",
   "metadata": {},
   "source": [
    "#### 20. Write a Python program that returns a string that is n (non-negative integer) copies of a given string."
   ]
  },
  {
   "cell_type": "code",
   "execution_count": 50,
   "metadata": {},
   "outputs": [
    {
     "name": "stdout",
     "output_type": "stream",
     "text": [
      "heyheyhey\n"
     ]
    }
   ],
   "source": [
    "def str_times(text, n):\n",
    "    result = text*n\n",
    "    return result\n",
    "\n",
    "\n",
    "print(str_times('hey', 3))"
   ]
  },
  {
   "cell_type": "markdown",
   "metadata": {},
   "source": [
    "#### 21. Write a Python program that determines whether a given number (accepted from the user) is even or odd, and prints an appropriate message to the user."
   ]
  },
  {
   "cell_type": "code",
   "execution_count": 51,
   "metadata": {},
   "outputs": [
    {
     "name": "stdout",
     "output_type": "stream",
     "text": [
      "odd\n",
      "even\n"
     ]
    }
   ],
   "source": [
    "def even_odd(number):\n",
    "    if number % 2 == 0:\n",
    "        return 'even'\n",
    "    else:\n",
    "        return 'odd'\n",
    "\n",
    "\n",
    "print(even_odd(3))\n",
    "print(even_odd(4))"
   ]
  },
  {
   "cell_type": "markdown",
   "metadata": {},
   "source": [
    "#### 22. Write a Python program to count the number 4 in a given list."
   ]
  },
  {
   "cell_type": "code",
   "execution_count": 53,
   "metadata": {},
   "outputs": [
    {
     "name": "stdout",
     "output_type": "stream",
     "text": [
      "2\n"
     ]
    }
   ],
   "source": [
    "def count_4(number):\n",
    "\n",
    "    count = 0\n",
    "    for i in number:\n",
    "        if i == 4:\n",
    "            count += 1\n",
    "    return count\n",
    "\n",
    "print(count_4([1, 2, 3, 4, 5, 4]))"
   ]
  },
  {
   "cell_type": "markdown",
   "metadata": {},
   "source": [
    "#### 23. Write a Python program to get n (non-negative integer) copies of the first 2 characters of a given string. Return n copies of the whole string if the length is less than 2."
   ]
  },
  {
   "cell_type": "code",
   "execution_count": 55,
   "metadata": {},
   "outputs": [
    {
     "name": "stdout",
     "output_type": "stream",
     "text": [
      "ababab\n",
      "aaa\n"
     ]
    }
   ],
   "source": [
    "def first_2_chars(string,num):\n",
    "\n",
    "    if len(string) < 2:\n",
    "        return string * num\n",
    "    else:\n",
    "        return string[:2] * num\n",
    "\n",
    "\n",
    "print(first_2_chars('abcd', 3))\n",
    "print(first_2_chars('a', 3))"
   ]
  },
  {
   "cell_type": "markdown",
   "metadata": {},
   "source": [
    "#### 24. Write a Python program to test whether a passed letter is a vowel or not."
   ]
  },
  {
   "cell_type": "code",
   "execution_count": 59,
   "metadata": {},
   "outputs": [
    {
     "name": "stdout",
     "output_type": "stream",
     "text": [
      "True\n",
      "True\n",
      "True\n",
      "True\n",
      "True\n",
      "False\n",
      "False\n"
     ]
    }
   ],
   "source": [
    "def check_vowel(char):\n",
    "\n",
    "    vowel = ['a', 'e', 'i', 'o', 'u']\n",
    "\n",
    "    if char in vowel:\n",
    "        return True\n",
    "    else:\n",
    "        return False\n",
    "\n",
    "\n",
    "print(check_vowel('a'))\n",
    "print(check_vowel('e'))\n",
    "print(check_vowel('i'))\n",
    "print(check_vowel('o'))\n",
    "print(check_vowel('u'))\n",
    "print(check_vowel('b'))\n",
    "print(check_vowel('d'))"
   ]
  },
  {
   "cell_type": "markdown",
   "metadata": {},
   "source": [
    "#### 25. Write a Python program that checks whether a specified value is contained within a group of values."
   ]
  },
  {
   "cell_type": "markdown",
   "metadata": {},
   "source": [
    "**Test Data :** <br>\n",
    "3 -> [1, 5, 8, 3] : True<br>\n",
    "-1 -> [1, 5, 8, 3] : False<br>"
   ]
  },
  {
   "cell_type": "code",
   "execution_count": 66,
   "metadata": {},
   "outputs": [
    {
     "name": "stdout",
     "output_type": "stream",
     "text": [
      "False\n",
      "True\n",
      "False\n",
      "False\n",
      "False\n",
      "[69, 90, 7, 15, 93, 52, 70, 8, 86, 58]\n"
     ]
    }
   ],
   "source": [
    "import random\n",
    "\n",
    "list = []\n",
    "for i in range(10):\n",
    "    list.append(random.randint(1, 100))\n",
    "\n",
    "def check_list(num):\n",
    "\n",
    "    if num in list:\n",
    "        return True\n",
    "    else:\n",
    "        return False\n",
    "\n",
    "\n",
    "print(check_list(5))\n",
    "print(check_list(15))\n",
    "print(check_list(25))\n",
    "print(check_list(35))\n",
    "print(check_list(45))\n",
    "\n",
    "print(list)\n"
   ]
  },
  {
   "cell_type": "markdown",
   "metadata": {},
   "source": [
    "#### 26. Write a Python program to create a histogram from a given list of integers."
   ]
  },
  {
   "cell_type": "code",
   "execution_count": 67,
   "metadata": {},
   "outputs": [
    {
     "name": "stdout",
     "output_type": "stream",
     "text": [
      "****\n",
      "*********\n",
      "*******\n"
     ]
    }
   ],
   "source": [
    "def hist_char(list):\n",
    "\n",
    "    for i in list:\n",
    "        print('*' * i)\n",
    "\n",
    "\n",
    "hist_char([4, 9, 7])"
   ]
  },
  {
   "cell_type": "markdown",
   "metadata": {},
   "source": [
    "### 27. Write a Python program that concatenates all elements in a list into a string and returns it."
   ]
  },
  {
   "cell_type": "code",
   "execution_count": 68,
   "metadata": {},
   "outputs": [
    {
     "name": "stdout",
     "output_type": "stream",
     "text": [
      "1234\n",
      "12a4\n"
     ]
    }
   ],
   "source": [
    "def list_to_string(list):\n",
    "\n",
    "    string = ''\n",
    "\n",
    "    for i in list:\n",
    "        string += str(i)\n",
    "\n",
    "    return string\n",
    "\n",
    "\n",
    "print(list_to_string([1, 2, 3, 4]))\n",
    "print(list_to_string([1, 2, 'a', 4]))"
   ]
  },
  {
   "cell_type": "markdown",
   "metadata": {},
   "source": [
    "#### 28. Write a Python program to print all even numbers from a given list of numbers in the same order and stop printing any after 237 in the sequence."
   ]
  },
  {
   "cell_type": "markdown",
   "metadata": {},
   "source": [
    "Sample numbers list :\n",
    "\n",
    "numbers = [    \n",
    "    386, 462, 47, 418, 907, 344, 236, 375, 823, 566, 597, 978, 328, 615, 953, 345, \n",
    "    399, 162, 758, 219, 918, 237, 412, 566, 826, 248, 866, 950, 626, 949, 687, 217, \n",
    "    815, 67, 104, 58, 512, 24, 892, 894, 767, 553, 81, 379, 843, 831, 445, 742, 717, \n",
    "    958,743, 527\n",
    "    ]"
   ]
  },
  {
   "cell_type": "code",
   "execution_count": 71,
   "metadata": {},
   "outputs": [
    {
     "name": "stdout",
     "output_type": "stream",
     "text": [
      "1 | 386\n",
      "2 | 462\n",
      "4 | 418\n",
      "6 | 344\n",
      "7 | 236\n",
      "10 | 566\n",
      "12 | 978\n",
      "13 | 328\n",
      "18 | 162\n",
      "19 | 758\n",
      "21 | 918\n"
     ]
    }
   ],
   "source": [
    "numbers = [    \n",
    "    386, 462, 47, 418, 907, 344, 236, 375, 823, 566, 597, 978, 328, 615, 953, 345, \n",
    "    399, 162, 758, 219, 918, 237, 412, 566, 826, 248, 866, 950, 626, 949, 687, 217, \n",
    "    815, 67, 104, 58, 512, 24, 892, 894, 767, 553, 81, 379, 843, 831, 445, 742, 717, \n",
    "    958,743, 527\n",
    "    ]\n",
    "\n",
    "for i,num in enumerate(numbers):\n",
    "    if num == 237:\n",
    "        break\n",
    "    elif num % 2 == 0:\n",
    "        print(i+1,\"|\",num)"
   ]
  },
  {
   "cell_type": "markdown",
   "metadata": {},
   "source": [
    "#### 29. Write a Python program that prints out all colors from color_list_1 that are not present in color_list_2."
   ]
  },
  {
   "cell_type": "markdown",
   "metadata": {},
   "source": [
    "**Test Data :**<br>\n",
    "color_list_1 = set([\"White\", \"Black\", \"Red\"])<br>\n",
    "color_list_2 = set([\"Red\", \"Green\"])\n",
    "\n",
    "**Expected Output :**<br>\n",
    "{'Black', 'White'}"
   ]
  },
  {
   "cell_type": "code",
   "execution_count": 76,
   "metadata": {},
   "outputs": [
    {
     "name": "stdout",
     "output_type": "stream",
     "text": [
      "{'White', 'Black'}\n"
     ]
    }
   ],
   "source": [
    "color_list_1 = set([\"White\", \"Black\", \"Red\"])\n",
    "color_list_2 = set([\"Red\", \"Green\"])\n",
    "\n",
    "print(color_list_1.difference(color_list_2))"
   ]
  },
  {
   "cell_type": "markdown",
   "metadata": {},
   "source": [
    "#### 30. Write a Python program that will accept the base and height of a triangle and compute its area."
   ]
  },
  {
   "cell_type": "code",
   "execution_count": 79,
   "metadata": {},
   "outputs": [
    {
     "name": "stdout",
     "output_type": "stream",
     "text": [
      "Area of triangle :  12.5\n"
     ]
    }
   ],
   "source": [
    "base = float(input(\"Enter base : \"))\n",
    "height = float(input(\"Enter height : \"))\n",
    "\n",
    "print(\"Area of triangle : \", 0.5*base*height)"
   ]
  },
  {
   "cell_type": "markdown",
   "metadata": {},
   "source": [
    "#### 31. Write a Python program that computes the greatest common divisor (HCF) of two positive integers."
   ]
  },
  {
   "cell_type": "code",
   "execution_count": 81,
   "metadata": {},
   "outputs": [
    {
     "name": "stdout",
     "output_type": "stream",
     "text": [
      "5\n"
     ]
    }
   ],
   "source": [
    "def hcf(x, y):\n",
    "\n",
    "    for i in range(min(x,y),0,-1):\n",
    "        if x % i == 0 and y % i == 0:\n",
    "            return i\n",
    "\n",
    "print(hcf(10, 15))"
   ]
  },
  {
   "cell_type": "code",
   "execution_count": 82,
   "metadata": {},
   "outputs": [
    {
     "name": "stdout",
     "output_type": "stream",
     "text": [
      "it's good day today\n"
     ]
    }
   ],
   "source": [
    "print(\"it's good day today\")"
   ]
  },
  {
   "cell_type": "code",
   "execution_count": 83,
   "metadata": {},
   "outputs": [
    {
     "name": "stdout",
     "output_type": "stream",
     "text": [
      "It \"good\" day today\n"
     ]
    }
   ],
   "source": [
    "print('It \"good\" day today')"
   ]
  },
  {
   "cell_type": "code",
   "execution_count": 84,
   "metadata": {},
   "outputs": [
    {
     "name": "stdout",
     "output_type": "stream",
     "text": [
      "it's a \"good\" day today\n"
     ]
    }
   ],
   "source": [
    "print('''it's a \"good\" day today''')"
   ]
  }
 ],
 "metadata": {
  "kernelspec": {
   "display_name": "Python 3",
   "language": "python",
   "name": "python3"
  },
  "language_info": {
   "codemirror_mode": {
    "name": "ipython",
    "version": 3
   },
   "file_extension": ".py",
   "mimetype": "text/x-python",
   "name": "python",
   "nbconvert_exporter": "python",
   "pygments_lexer": "ipython3",
   "version": "3.12.4"
  }
 },
 "nbformat": 4,
 "nbformat_minor": 2
}
